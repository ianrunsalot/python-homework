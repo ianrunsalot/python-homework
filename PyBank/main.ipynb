{
 "cells": [
  {
   "cell_type": "code",
   "execution_count": 2,
   "metadata": {},
   "outputs": [
    {
     "name": "stdout",
     "output_type": "stream",
     "text": [
      "Hello World! PyBank\n"
     ]
    }
   ],
   "source": [
    "print(\"Hello World! PyBank\")"
   ]
  },
  {
   "cell_type": "code",
   "execution_count": 10,
   "metadata": {},
   "outputs": [],
   "source": [
    "# Import pathlib and csv library\n",
    "from pathlib import Path\n",
    "import csv"
   ]
  },
  {
   "cell_type": "code",
   "execution_count": 11,
   "metadata": {},
   "outputs": [],
   "source": [
    "# Set the file path\n",
    "# File was copied over from homeworkfolder\n",
    "csvpath = Path(\"../PyBank/Resources/budget_data.csv\")"
   ]
  },
  {
   "cell_type": "code",
   "execution_count": 27,
   "metadata": {},
   "outputs": [
    {
     "name": "stdout",
     "output_type": "stream",
     "text": [
      "['Date', 'Profit/Losses']\n",
      "We have budget data for 86 months. Not too shaby. \n"
     ]
    }
   ],
   "source": [
    "#initailize metric variable to total the number of months included in the data set\n",
    "count_of_months = 0\n",
    "# Open the csv file as an object\n",
    "with open(csvpath, \"r\") as budget_file:\n",
    "    # Pass in the csv file to the csv.reader() function\n",
    "    # (with ',' as the delmiter/separator) and return the csvreader object\n",
    "    csvreader = csv.reader(budget_file, delimiter=\",\")\n",
    "    # Read header row\n",
    "    csv_header = next(csvreader)\n",
    "    #Print Header row\n",
    "    print(csv_header)\n",
    "\n",
    "    for row in csvreader:\n",
    "        count_of_months += 1\n",
    "print(f\"We have budget data for {count_of_months} months. Not too shaby. \")"
   ]
  },
  {
   "cell_type": "code",
   "execution_count": 234,
   "metadata": {},
   "outputs": [
    {
     "name": "stdout",
     "output_type": "stream",
     "text": [
      "Over the last 86 months we have a Profit/Loss total of $38382578. \n"
     ]
    }
   ],
   "source": [
    "total_pnl = 0\n",
    "with open(csvpath, \"r\") as budget_file:\n",
    "    csvreader = csv.reader(budget_file, delimiter=\",\")\n",
    "    csv_header = next(csvreader)\n",
    "    #print(csv_header)\n",
    "    for row in csvreader:\n",
    "        date = row[0]\n",
    "        pnl = int(row[1])\n",
    "        if pnl != 0:\n",
    "            total_pnl += pnl\n",
    "print(f\"Over the last {count_of_months} months we have a Profit/Loss total of ${total_pnl}. \")\n",
    "        \n",
    "\n",
    "    "
   ]
  },
  {
   "cell_type": "code",
   "execution_count": 256,
   "metadata": {},
   "outputs": [
    {
     "name": "stdout",
     "output_type": "stream",
     "text": [
      "{'Jan-2010': 867884, 'Feb-2010': 116771, 'Mar-2010': -662642, 'Apr-2010': -391430, 'May-2010': 379920, 'Jun-2010': 212354, 'Jul-2010': 510239, 'Aug-2010': -428211, 'Sep-2010': -821271, 'Oct-2010': 693918, 'Nov-2010': 416278, 'Dec-2010': -974163, 'Jan-2011': 860159, 'Feb-2011': -1115009, 'Mar-2011': 1033048, 'Apr-2011': 95318, 'May-2011': -308093, 'Jun-2011': 99052, 'Jul-2011': -521393, 'Aug-2011': 605450, 'Sep-2011': 231727, 'Oct-2011': -65187, 'Nov-2011': -702716, 'Dec-2011': 177975, 'Jan-2012': -1065544, 'Feb-2012': 1926159, 'Mar-2012': -917805, 'Apr-2012': 898730, 'May-2012': -334262, 'Jun-2012': -246499, 'Jul-2012': -64055, 'Aug-2012': -1529236, 'Sep-2012': 1497596, 'Oct-2012': 304914, 'Nov-2012': -635801, 'Dec-2012': 398319, 'Jan-2013': -183161, 'Feb-2013': -37864, 'Mar-2013': -253689, 'Apr-2013': 403655, 'May-2013': 94168, 'Jun-2013': 306877, 'Jul-2013': -83000, 'Aug-2013': 210462, 'Sep-2013': -2196167, 'Oct-2013': 1465222, 'Nov-2013': -956983, 'Dec-2013': 1838447, 'Jan-2014': -468003, 'Feb-2014': -64602, 'Mar-2014': 206242, 'Apr-2014': -242155, 'May-2014': -449079, 'Jun-2014': 315198, 'Jul-2014': 241099, 'Aug-2014': 111540, 'Sep-2014': 365942, 'Oct-2014': -219310, 'Nov-2014': -368665, 'Dec-2014': 409837, 'Jan-2015': 151210, 'Feb-2015': -110244, 'Mar-2015': -341938, 'Apr-2015': -1212159, 'May-2015': 683246, 'Jun-2015': -70825, 'Jul-2015': 335594, 'Aug-2015': 417334, 'Sep-2015': -272194, 'Oct-2015': -236462, 'Nov-2015': 657432, 'Dec-2015': -211262, 'Jan-2016': -128237, 'Feb-2016': -1750387, 'Mar-2016': 925441, 'Apr-2016': 932089, 'May-2016': -311434, 'Jun-2016': 267252, 'Jul-2016': -1876758, 'Aug-2016': 1733696, 'Sep-2016': 198551, 'Oct-2016': -665765, 'Nov-2016': 693229, 'Dec-2016': -734926, 'Jan-2017': 77242, 'Feb-2017': 532869}\n",
      "Financial Analysis\n",
      "----------------------------\n",
      "Total Months: 86\n",
      "Total: $38382578\n",
      "Average  Change: $-2315.12\n",
      "Greatest Increase in Profits: Feb-2012 $1926159\n",
      "Greatest Decrease in Profits: Sep-2013 $-2196167\n"
     ]
    }
   ],
   "source": [
    "analysis = {}\n",
    "\n",
    "with open(csvpath, \"r\") as budget_file:\n",
    "    csvreader = csv.reader(budget_file, delimiter=\",\")\n",
    "    csv_header = next(csvreader)\n",
    "    #print(csv_header)\n",
    "    pnl_month_prior = 0\n",
    "    for row in csvreader:\n",
    "        date = row[0]\n",
    "        pnl = int(row[1])\n",
    "        change_in_pnl = pnl - pnl_month_prior\n",
    "        pnl_month_prior = pnl\n",
    "        if date not in  analysis.keys():\n",
    "            analysis[date] = change_in_pnl\n",
    "print(analysis)\n",
    "del analysis[\"Jan-2010\"]\n",
    "#Initiliazing metrics\n",
    "avg = 0\n",
    "upanddown = 0\n",
    "gain = 0\n",
    "month_gain = \"\"\n",
    "month_loss = \"\"\n",
    "loss = 0\n",
    "month_count = 0\n",
    "\n",
    "    \n",
    "for key, value in analysis.items():\n",
    "    upanddown += value\n",
    "    month_count += 1    \n",
    "    if loss > value:\n",
    "            loss = value\n",
    "            month_loss = key\n",
    "    if value > gain:\n",
    "            gain = value\n",
    "            month_gain = key\n",
    "avg = (upanddown / month_count)\n",
    "        \n",
    "print(f\"Financial Analysis\")\n",
    "print(f\"----------------------------\")\n",
    "print(f\"Total Months: {count_of_months}\")\n",
    "print(f\"Total: ${total_pnl}\")\n",
    "print(f\"Average  Change: ${round(avg, 2)}\")\n",
    "print(f\"Greatest Increase in Profits: {month_gain} ${gain}\")\n",
    "print(f\"Greatest Decrease in Profits: {month_loss} ${loss}\")"
   ]
  },
  {
   "cell_type": "code",
   "execution_count": 257,
   "metadata": {},
   "outputs": [],
   "source": [
    "f = open(\"homeworkoutput.txt\", \"w\")\n",
    "print(f\"Financial Analysis\", file=f)\n",
    "print(f\"----------------------------\", file=f)\n",
    "print(f\"Total Months: {count_of_months}\", file=f)\n",
    "print(f\"Total: ${total_pnl}\", file=f)\n",
    "print(f\"Average  Change: ${round(avg, 2)}\", file=f)\n",
    "print(f\"Greatest Increase in Profits: {month_gain} (${gain})\", file=f)\n",
    "print(f\"Greatest Decrease in Profits: {month_loss} (${loss})\", file=f)\n",
    "f.close()"
   ]
  },
  {
   "cell_type": "code",
   "execution_count": null,
   "metadata": {},
   "outputs": [],
   "source": []
  }
 ],
 "metadata": {
  "kernelspec": {
   "display_name": "Python 3",
   "language": "python",
   "name": "python3"
  },
  "language_info": {
   "codemirror_mode": {
    "name": "ipython",
    "version": 3
   },
   "file_extension": ".py",
   "mimetype": "text/x-python",
   "name": "python",
   "nbconvert_exporter": "python",
   "pygments_lexer": "ipython3",
   "version": "3.7.4"
  }
 },
 "nbformat": 4,
 "nbformat_minor": 4
}
