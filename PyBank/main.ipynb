{
 "cells": [
  {
   "cell_type": "code",
   "execution_count": null,
   "metadata": {},
   "outputs": [],
   "source": [
    "print(\"Hello World! PyBank\")"
   ]
  },
  {
   "cell_type": "code",
   "execution_count": null,
   "metadata": {},
   "outputs": [],
   "source": [
    "# Import pathlib and csv library\n",
    "from pathlib import Path\n",
    "import csv"
   ]
  },
  {
   "cell_type": "code",
   "execution_count": null,
   "metadata": {},
   "outputs": [],
   "source": [
    "# Set the file path\n",
    "# File was copied over from homeworkfolder\n",
    "csvpath = Path(\"../PyBank/Resources/budget_data.csv\")"
   ]
  },
  {
   "cell_type": "code",
   "execution_count": null,
   "metadata": {},
   "outputs": [],
   "source": [
    "#initailize metric variable to total the number of months included in the data set\n",
    "count_of_months = 0\n",
    "# Open the csv file as an object\n",
    "with open(csvpath, \"r\") as budget_file:\n",
    "    # Pass in the csv file to the csv.reader() function\n",
    "    # (with ',' as the delmiter/separator) and return the csvreader object\n",
    "    csvreader = csv.reader(budget_file, delimiter=\",\")\n",
    "    # Read header row\n",
    "    csv_header = next(csvreader)\n",
    "    #Print Header row\n",
    "    print(csv_header)\n",
    "\n",
    "    for row in csvreader:\n",
    "        count_of_months += 1\n",
    "print(f\"We have budget data for {count_of_months} months. Not too shaby. \")"
   ]
  },
  {
   "cell_type": "code",
   "execution_count": null,
   "metadata": {},
   "outputs": [],
   "source": [
    "total_pnl = 0\n",
    "with open(csvpath, \"r\") as budget_file:\n",
    "    csvreader = csv.reader(budget_file, delimiter=\",\")\n",
    "    csv_header = next(csvreader)\n",
    "    #print(csv_header)\n",
    "    for row in csvreader:\n",
    "        date = row[0]\n",
    "        pnl = int(row[1])\n",
    "        if pnl != 0:\n",
    "            total_pnl += pnl\n",
    "print(f\"Over the last {count_of_months} months we have a Profit/Loss total of ${total_pnl}. \")\n",
    "        \n",
    "\n",
    "    "
   ]
  },
  {
   "cell_type": "code",
   "execution_count": null,
   "metadata": {},
   "outputs": [],
   "source": [
    "analysis = {}\n",
    "\n",
    "with open(csvpath, \"r\") as budget_file:\n",
    "    csvreader = csv.reader(budget_file, delimiter=\",\")\n",
    "    csv_header = next(csvreader)\n",
    "    #print(csv_header)\n",
    "    pnl_month_prior = 0\n",
    "    for row in csvreader:\n",
    "        date = row[0]\n",
    "        pnl = int(row[1])\n",
    "        change_in_pnl = pnl - pnl_month_prior\n",
    "        pnl_month_prior = pnl\n",
    "        if date not in  analysis.keys():\n",
    "            analysis[date] = change_in_pnl\n",
    "print(analysis)\n",
    "del analysis[\"Jan-2010\"]\n",
    "#Initiliazing metrics\n",
    "avg = 0\n",
    "upanddown = 0\n",
    "gain = 0\n",
    "month_gain = \"\"\n",
    "month_loss = \"\"\n",
    "loss = 0\n",
    "month_count = 0\n",
    "\n",
    "    \n",
    "for key, value in analysis.items():\n",
    "    upanddown += value\n",
    "    month_count += 1    \n",
    "    if loss > value:\n",
    "            loss = value\n",
    "            month_loss = key\n",
    "    if value > gain:\n",
    "            gain = value\n",
    "            month_gain = key\n",
    "avg = (upanddown / month_count)\n",
    "        \n",
    "print(f\"Financial Analysis\")\n",
    "print(f\"----------------------------\")\n",
    "print(f\"Total Months: {count_of_months}\")\n",
    "print(f\"Total: ${total_pnl}\")\n",
    "print(f\"Average  Change: ${round(avg, 2)}\")\n",
    "print(f\"Greatest Increase in Profits: {month_gain} ${gain}\")\n",
    "print(f\"Greatest Decrease in Profits: {month_loss} ${loss}\")"
   ]
  },
  {
   "cell_type": "code",
   "execution_count": null,
   "metadata": {},
   "outputs": [],
   "source": [
    "f = open(\"homeworkoutput.txt\", \"w\")\n",
    "print(f\"Financial Analysis\", file=f)\n",
    "print(f\"----------------------------\", file=f)\n",
    "print(f\"Total Months: {count_of_months}\", file=f)\n",
    "print(f\"Total: ${total_pnl}\", file=f)\n",
    "print(f\"Average  Change: ${round(avg, 2)}\", file=f)\n",
    "print(f\"Greatest Increase in Profits: {month_gain} (${gain})\", file=f)\n",
    "print(f\"Greatest Decrease in Profits: {month_loss} (${loss})\", file=f)\n",
    "f.close()"
   ]
  },
  {
   "cell_type": "code",
   "execution_count": null,
   "metadata": {},
   "outputs": [],
   "source": []
  }
 ],
 "metadata": {
  "kernelspec": {
   "display_name": "Python 3",
   "language": "python",
   "name": "python3"
  },
  "language_info": {
   "codemirror_mode": {
    "name": "ipython",
    "version": 3
   },
   "file_extension": ".py",
   "mimetype": "text/x-python",
   "name": "python",
   "nbconvert_exporter": "python",
   "pygments_lexer": "ipython3",
   "version": "3.7.4"
  }
 },
 "nbformat": 4,
 "nbformat_minor": 4
}
